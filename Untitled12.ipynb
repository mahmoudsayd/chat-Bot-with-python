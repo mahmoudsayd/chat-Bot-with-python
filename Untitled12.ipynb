{
  "nbformat": 4,
  "nbformat_minor": 0,
  "metadata": {
    "colab": {
      "provenance": []
    },
    "kernelspec": {
      "name": "python3",
      "display_name": "Python 3"
    },
    "language_info": {
      "name": "python"
    }
  },
  "cells": [
    {
      "cell_type": "code",
      "source": [
        "import random"
      ],
      "metadata": {
        "id": "b3C32-q4_UI_"
      },
      "execution_count": 18,
      "outputs": []
    },
    {
      "cell_type": "code",
      "execution_count": 19,
      "metadata": {
        "id": "L_nIGLsy_SYy"
      },
      "outputs": [],
      "source": [
        "# prompt: generate a dataset for a chatbot in a dictionary for supermarket\n",
        "\n",
        "dataset = {\n",
        "\n",
        "      \"hello\": [\"Hello, how can I help you today?\", \"Hi there, what can I do for you?\", \"I'm well, thank you. How can I assist you?\"],\n",
        "\n",
        "      \"do you have [product] in stock?\": [\"Yes, we have [product] in stock. You can find it in aisle [aisle number].\", \"Unfortunately, we do not have [product] in stock at the moment.\", \"You can find [product] in aisle [aisle number].\"],\n",
        "\n",
        "      \"how much does [product] cost?\": [\"The price of [product] is [price].\", \"You can find the price of [product] on the shelf tag.\", \"Unfortunately, I do not have access to pricing information.\"],\n",
        "\n",
        "      \"where can I find [product]?\": [\"You can find [product] in aisle [aisle number].\", \"Follow the signs to the [department] section, and you'll find [product] there.\", \"I'm sorry, I cannot provide directions at this time.\"],\n",
        "\n",
        "      \"what do you recommend?\": [\"I recommend trying our [product] brand. It's a popular choice among our customers.\", \"You might like our [product] line. It's known for its high quality and affordability.\", \"I suggest checking out our weekly specials. We have some great deals on a variety of products.\"]\n",
        "\n",
        "}\n"
      ]
    },
    {
      "cell_type": "code",
      "source": [
        "def gen_respones(user_input):\n",
        "  user_input=user_input.lower()\n",
        "  if user_input in dataset:\n",
        "    return random.choice(dataset[user_input])\n",
        "  else :\n",
        "    return \"im sorry, i didnt understand\"\n",
        "\n",
        "def main():\n",
        "  print(\"welcome to mahmoud subermarket\")\n",
        "  print(\"you cat chat with me now \")\n",
        "  while True :\n",
        "    user_input = input(\"you: \")\n",
        "    if user_input.lower() == \"bye\":\n",
        "      print(\"see you later :)\")\n",
        "      break\n",
        "    else :\n",
        "      dataset =gen_respones(user_input)\n",
        "      print(\"chatBot: \",dataset)\n",
        "\n",
        "if __name__==\"__main__\":\n",
        "  main()\n"
      ],
      "metadata": {
        "colab": {
          "base_uri": "https://localhost:8080/"
        },
        "id": "FYX8eanc_TTC",
        "outputId": "ef5a80d2-c6b3-4e47-ef30-44e29bffb0c1"
      },
      "execution_count": 20,
      "outputs": [
        {
          "output_type": "stream",
          "name": "stdout",
          "text": [
            "welcome to mahmoud subermarket\n",
            "you cat chat with me now \n",
            "you: hello\n",
            "chatBot:  Hi there, what can I do for you?\n",
            "you: what do you recommend?\n",
            "chatBot:  I suggest checking out our weekly specials. We have some great deals on a variety of products.\n",
            "you: bye\n",
            "see you later :)\n"
          ]
        }
      ]
    }
  ]
}